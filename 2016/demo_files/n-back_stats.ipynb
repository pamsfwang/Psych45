{
 "cells": [
  {
   "cell_type": "markdown",
   "metadata": {},
   "source": [
    "# Psych 45: N-back stats"
   ]
  },
  {
   "cell_type": "code",
   "execution_count": 41,
   "metadata": {
    "collapsed": false
   },
   "outputs": [],
   "source": [
    "%matplotlib inline\n",
    "\n",
    "import pandas as pd\n",
    "import seaborn as sns\n",
    "sns.set(style='ticks', context='poster', font_scale=1.5)"
   ]
  },
  {
   "cell_type": "markdown",
   "metadata": {},
   "source": [
    "## Import data file"
   ]
  },
  {
   "cell_type": "code",
   "execution_count": 52,
   "metadata": {
    "collapsed": false
   },
   "outputs": [],
   "source": [
    "data = pd.read_csv('http://web.stanford.edu/class/psych45/demos/Psych45-nback_stats.csv')\n",
    "\n",
    "# filter RT column so just a number (ms and comma not included)\n",
    "data.avg_rt = data.avg_rt.str.strip(' ms').str.replace(',', '').astype(float)\n",
    "\n",
    "task_list = ['2-back', '3-back', '4-back']"
   ]
  },
  {
   "cell_type": "code",
   "execution_count": 53,
   "metadata": {
    "collapsed": false
   },
   "outputs": [
    {
     "data": {
      "text/html": [
       "<div style=\"max-height:1000px;max-width:1500px;overflow:auto;\">\n",
       "<table border=\"1\" class=\"dataframe\">\n",
       "  <thead>\n",
       "    <tr style=\"text-align: right;\">\n",
       "      <th></th>\n",
       "      <th>task</th>\n",
       "      <th>percent_correct</th>\n",
       "      <th>avg_rt</th>\n",
       "      <th>combined</th>\n",
       "      <th>when</th>\n",
       "      <th>date_downloaded</th>\n",
       "    </tr>\n",
       "  </thead>\n",
       "  <tbody>\n",
       "    <tr>\n",
       "      <th>0</th>\n",
       "      <td> 3-back</td>\n",
       "      <td> 40.00</td>\n",
       "      <td>  962.18</td>\n",
       "      <td> 2,405.45</td>\n",
       "      <td> 16 hours ago</td>\n",
       "      <td> 12:15 PM, Sunday</td>\n",
       "    </tr>\n",
       "    <tr>\n",
       "      <th>1</th>\n",
       "      <td> 3-back</td>\n",
       "      <td> 46.67</td>\n",
       "      <td>  880.35</td>\n",
       "      <td> 1,886.46</td>\n",
       "      <td> 16 hours ago</td>\n",
       "      <td> 12:15 PM, Sunday</td>\n",
       "    </tr>\n",
       "    <tr>\n",
       "      <th>2</th>\n",
       "      <td> 3-back</td>\n",
       "      <td> 86.67</td>\n",
       "      <td>  894.30</td>\n",
       "      <td> 1,031.88</td>\n",
       "      <td> 16 hours ago</td>\n",
       "      <td> 12:15 PM, Sunday</td>\n",
       "    </tr>\n",
       "    <tr>\n",
       "      <th>3</th>\n",
       "      <td> 3-back</td>\n",
       "      <td> 60.00</td>\n",
       "      <td> 1069.83</td>\n",
       "      <td> 1,783.04</td>\n",
       "      <td> 16 hours ago</td>\n",
       "      <td> 12:15 PM, Sunday</td>\n",
       "    </tr>\n",
       "    <tr>\n",
       "      <th>4</th>\n",
       "      <td> 3-back</td>\n",
       "      <td> 26.67</td>\n",
       "      <td> 1258.98</td>\n",
       "      <td> 4,721.18</td>\n",
       "      <td> 16 hours ago</td>\n",
       "      <td> 12:15 PM, Sunday</td>\n",
       "    </tr>\n",
       "  </tbody>\n",
       "</table>\n",
       "</div>"
      ],
      "text/plain": [
       "     task  percent_correct   avg_rt  combined          when   date_downloaded\n",
       "0  3-back            40.00   962.18  2,405.45  16 hours ago  12:15 PM, Sunday\n",
       "1  3-back            46.67   880.35  1,886.46  16 hours ago  12:15 PM, Sunday\n",
       "2  3-back            86.67   894.30  1,031.88  16 hours ago  12:15 PM, Sunday\n",
       "3  3-back            60.00  1069.83  1,783.04  16 hours ago  12:15 PM, Sunday\n",
       "4  3-back            26.67  1258.98  4,721.18  16 hours ago  12:15 PM, Sunday"
      ]
     },
     "execution_count": 53,
     "metadata": {},
     "output_type": "execute_result"
    }
   ],
   "source": [
    "data.head()"
   ]
  },
  {
   "cell_type": "markdown",
   "metadata": {},
   "source": [
    "## Analyses"
   ]
  },
  {
   "cell_type": "markdown",
   "metadata": {},
   "source": [
    "#### Number of data points:"
   ]
  },
  {
   "cell_type": "code",
   "execution_count": 59,
   "metadata": {
    "collapsed": false
   },
   "outputs": [
    {
     "data": {
      "text/plain": [
       "task\n",
       "2-back    25\n",
       "3-back    25\n",
       "4-back     4\n",
       "Name: when, dtype: int64"
      ]
     },
     "execution_count": 59,
     "metadata": {},
     "output_type": "execute_result"
    }
   ],
   "source": [
    "data.groupby(['task']).count().when"
   ]
  },
  {
   "cell_type": "markdown",
   "metadata": {},
   "source": [
    "#### Mean accuracy and response time:"
   ]
  },
  {
   "cell_type": "code",
   "execution_count": 63,
   "metadata": {
    "collapsed": false
   },
   "outputs": [
    {
     "data": {
      "text/html": [
       "<div style=\"max-height:1000px;max-width:1500px;overflow:auto;\">\n",
       "<table border=\"1\" class=\"dataframe\">\n",
       "  <thead>\n",
       "    <tr style=\"text-align: right;\">\n",
       "      <th></th>\n",
       "      <th>task</th>\n",
       "      <th>percent_correct</th>\n",
       "      <th>avg_rt</th>\n",
       "    </tr>\n",
       "  </thead>\n",
       "  <tbody>\n",
       "    <tr>\n",
       "      <th>0</th>\n",
       "      <td> 2-back</td>\n",
       "      <td> 77.622</td>\n",
       "      <td> 889.6416</td>\n",
       "    </tr>\n",
       "    <tr>\n",
       "      <th>1</th>\n",
       "      <td> 3-back</td>\n",
       "      <td> 50.866</td>\n",
       "      <td> 925.0708</td>\n",
       "    </tr>\n",
       "    <tr>\n",
       "      <th>2</th>\n",
       "      <td> 4-back</td>\n",
       "      <td> 54.285</td>\n",
       "      <td> 781.2725</td>\n",
       "    </tr>\n",
       "  </tbody>\n",
       "</table>\n",
       "</div>"
      ],
      "text/plain": [
       "     task  percent_correct    avg_rt\n",
       "0  2-back           77.622  889.6416\n",
       "1  3-back           50.866  925.0708\n",
       "2  4-back           54.285  781.2725"
      ]
     },
     "execution_count": 63,
     "metadata": {},
     "output_type": "execute_result"
    }
   ],
   "source": [
    "data.groupby(['task']).mean().reset_index()"
   ]
  },
  {
   "cell_type": "markdown",
   "metadata": {},
   "source": [
    "### How does task affect percent of trials correct?"
   ]
  },
  {
   "cell_type": "code",
   "execution_count": 54,
   "metadata": {
    "collapsed": false
   },
   "outputs": [
    {
     "data": {
      "image/png": "[encoded data removed]",
      "text/plain": [
       "<matplotlib.figure.Figure at 0x116361050>"
      ]
     },
     "metadata": {},
     "output_type": "display_data"
    }
   ],
   "source": [
    "g = sns.factorplot(x='task', y='percent_correct', \n",
    "                   x_order=task_list,\n",
    "                   data=data, \n",
    "                   palette='Set1', ci=68, \n",
    "                   aspect=1.5)\n",
    "g.set_ylabels('% correct')\n",
    "sns.despine(trim=True)"
   ]
  },
  {
   "cell_type": "markdown",
   "metadata": {},
   "source": [
    "### How does task affect average response time?"
   ]
  },
  {
   "cell_type": "code",
   "execution_count": 56,
   "metadata": {
    "collapsed": false
   },
   "outputs": [
    {
     "data": {
      "image/png": "[encoded data removed]",
      "text/plain": [
       "<matplotlib.figure.Figure at 0x11574c4d0>"
      ]
     },
     "metadata": {},
     "output_type": "display_data"
    }
   ],
   "source": [
    "g = sns.factorplot(x='task', y='avg_rt', \n",
    "                   x_order=task_list,\n",
    "                   data=data, \n",
    "                   palette='Set1', ci=68, \n",
    "                   aspect=1.5)\n",
    "g.set_ylabels('avg RT')\n",
    "sns.despine(trim=True)"
   ]
  },
  {
   "cell_type": "code",
   "execution_count": null,
   "metadata": {
    "collapsed": true
   },
   "outputs": [],
   "source": []
  }
 ],
 "metadata": {
  "kernelspec": {
   "display_name": "Python 2",
   "language": "python",
   "name": "python2"
  },
  "language_info": {
   "codemirror_mode": {
    "name": "ipython",
    "version": 2
   },
   "file_extension": ".py",
   "mimetype": "text/x-python",
   "name": "python",
   "nbconvert_exporter": "python",
   "pygments_lexer": "ipython2",
   "version": "2.7.11"
  }
 },
 "nbformat": 4,
 "nbformat_minor": 0
}
