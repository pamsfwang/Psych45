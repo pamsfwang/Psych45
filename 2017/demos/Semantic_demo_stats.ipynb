{
 "cells": [
  {
   "cell_type": "markdown",
   "metadata": {},
   "source": [
    "# Psych 45: Semantic memory demo stats\n"
   ]
  },
  {
   "cell_type": "code",
   "execution_count": 1,
   "metadata": {
    "cellView": null,
    "collapsed": false,
    "executionInfo": {
     "content": {
      "execution_count": 10,
      "payload": [],
      "status": "ok",
      "user_expressions": {},
      "user_variables": {}
     },
     "timestamp": 1462199571477,
     "user": {
      "color": "#1FA15D",
      "displayName": "Steph Gagnon",
      "isAnonymous": false,
      "isMe": true,
      "permissionId": "13438171290375696632",
      "photoUrl": "//lh5.googleusercontent.com/-spdSQbdC81Y/AAAAAAAAAAI/AAAAAAAAFEg/_mc-Q0mvE5E/s50-c-k-no/photo.jpg",
      "sessionId": "2a3e57da62886c23",
      "userId": "102258427440644983632"
     },
     "user_tz": 420
    }
   },
   "outputs": [
    {
     "name": "stderr",
     "output_type": "stream",
     "text": [
      "//anaconda/lib/python2.7/site-packages/matplotlib/__init__.py:872: UserWarning: axes.color_cycle is deprecated and replaced with axes.prop_cycle; please use the latter.\n",
      "  warnings.warn(self.msg_depr % (key, alt_key))\n"
     ]
    }
   ],
   "source": [
    "%matplotlib inline\n",
    "\n",
    "import pandas as pd\n",
    "import seaborn as sns\n",
    "import matplotlib.pyplot as plt\n",
    "import scipy as sp\n",
    "sns.set(style='ticks', context='poster', font_scale=1)"
   ]
  },
  {
   "cell_type": "code",
   "execution_count": 2,
   "metadata": {
    "cellView": null,
    "collapsed": false,
    "executionInfo": {
     "content": {
      "execution_count": 67,
      "payload": [],
      "status": "ok",
      "user_expressions": {},
      "user_variables": {}
     },
     "timestamp": 1462204476022,
     "user": {
      "color": "#1FA15D",
      "displayName": "Steph Gagnon",
      "isAnonymous": false,
      "isMe": true,
      "permissionId": "13438171290375696632",
      "photoUrl": "//lh5.googleusercontent.com/-spdSQbdC81Y/AAAAAAAAAAI/AAAAAAAAFEg/_mc-Q0mvE5E/s50-c-k-no/photo.jpg",
      "sessionId": "2a3e57da62886c23",
      "userId": "102258427440644983632"
     },
     "user_tz": 420
    }
   },
   "outputs": [
    {
     "data": {
      "text/html": [
       "<div>\n",
       "<table border=\"1\" class=\"dataframe\">\n",
       "  <thead>\n",
       "    <tr>\n",
       "      <th></th>\n",
       "      <th colspan=\"3\" halign=\"left\">fruit</th>\n",
       "      <th colspan=\"3\" halign=\"left\">sport</th>\n",
       "      <th colspan=\"3\" halign=\"left\">bird</th>\n",
       "      <th colspan=\"3\" halign=\"left\">vehicle</th>\n",
       "      <th colspan=\"3\" halign=\"left\">crime</th>\n",
       "      <th colspan=\"3\" halign=\"left\">vegetable</th>\n",
       "    </tr>\n",
       "    <tr>\n",
       "      <th>Timestamp</th>\n",
       "      <th>apple</th>\n",
       "      <th>fig</th>\n",
       "      <th>strawberry</th>\n",
       "      <th>football</th>\n",
       "      <th>hockey</th>\n",
       "      <th>wrestling</th>\n",
       "      <th>ostrich</th>\n",
       "      <th>wren</th>\n",
       "      <th>robin</th>\n",
       "      <th>boat</th>\n",
       "      <th>tricycle</th>\n",
       "      <th>car</th>\n",
       "      <th>embezzling</th>\n",
       "      <th>murder</th>\n",
       "      <th>vagrancy</th>\n",
       "      <th>parsley</th>\n",
       "      <th>carrot</th>\n",
       "      <th>onion</th>\n",
       "    </tr>\n",
       "  </thead>\n",
       "  <tbody>\n",
       "    <tr>\n",
       "      <th>5/4/17 12:05</th>\n",
       "      <td>1</td>\n",
       "      <td>7</td>\n",
       "      <td>1</td>\n",
       "      <td>1</td>\n",
       "      <td>1</td>\n",
       "      <td>1</td>\n",
       "      <td>1</td>\n",
       "      <td>7</td>\n",
       "      <td>1</td>\n",
       "      <td>2</td>\n",
       "      <td>2</td>\n",
       "      <td>1</td>\n",
       "      <td>1</td>\n",
       "      <td>1</td>\n",
       "      <td>1</td>\n",
       "      <td>1</td>\n",
       "      <td>1</td>\n",
       "      <td>1</td>\n",
       "    </tr>\n",
       "    <tr>\n",
       "      <th>5/4/17 12:05</th>\n",
       "      <td>1</td>\n",
       "      <td>2</td>\n",
       "      <td>2</td>\n",
       "      <td>1</td>\n",
       "      <td>2</td>\n",
       "      <td>2</td>\n",
       "      <td>3</td>\n",
       "      <td>2</td>\n",
       "      <td>2</td>\n",
       "      <td>2</td>\n",
       "      <td>2</td>\n",
       "      <td>1</td>\n",
       "      <td>2</td>\n",
       "      <td>1</td>\n",
       "      <td>2</td>\n",
       "      <td>4</td>\n",
       "      <td>2</td>\n",
       "      <td>2</td>\n",
       "    </tr>\n",
       "    <tr>\n",
       "      <th>5/4/17 12:26</th>\n",
       "      <td>1</td>\n",
       "      <td>4</td>\n",
       "      <td>2</td>\n",
       "      <td>1</td>\n",
       "      <td>4</td>\n",
       "      <td>5</td>\n",
       "      <td>2</td>\n",
       "      <td>4</td>\n",
       "      <td>2</td>\n",
       "      <td>3</td>\n",
       "      <td>5</td>\n",
       "      <td>1</td>\n",
       "      <td>2</td>\n",
       "      <td>1</td>\n",
       "      <td>5</td>\n",
       "      <td>5</td>\n",
       "      <td>1</td>\n",
       "      <td>2</td>\n",
       "    </tr>\n",
       "    <tr>\n",
       "      <th>5/4/17 13:00</th>\n",
       "      <td>1</td>\n",
       "      <td>4</td>\n",
       "      <td>1</td>\n",
       "      <td>1</td>\n",
       "      <td>1</td>\n",
       "      <td>1</td>\n",
       "      <td>1</td>\n",
       "      <td>2</td>\n",
       "      <td>1</td>\n",
       "      <td>1</td>\n",
       "      <td>1</td>\n",
       "      <td>1</td>\n",
       "      <td>1</td>\n",
       "      <td>1</td>\n",
       "      <td>7</td>\n",
       "      <td>5</td>\n",
       "      <td>1</td>\n",
       "      <td>1</td>\n",
       "    </tr>\n",
       "    <tr>\n",
       "      <th>5/4/17 14:26</th>\n",
       "      <td>1</td>\n",
       "      <td>1</td>\n",
       "      <td>1</td>\n",
       "      <td>1</td>\n",
       "      <td>1</td>\n",
       "      <td>1</td>\n",
       "      <td>1</td>\n",
       "      <td>1</td>\n",
       "      <td>1</td>\n",
       "      <td>4</td>\n",
       "      <td>4</td>\n",
       "      <td>1</td>\n",
       "      <td>1</td>\n",
       "      <td>1</td>\n",
       "      <td>4</td>\n",
       "      <td>1</td>\n",
       "      <td>1</td>\n",
       "      <td>1</td>\n",
       "    </tr>\n",
       "  </tbody>\n",
       "</table>\n",
       "</div>"
      ],
      "text/plain": [
       "             fruit                   sport                     bird       \\\n",
       "Timestamp    apple fig strawberry football hockey wrestling ostrich wren   \n",
       "5/4/17 12:05     1   7          1        1      1         1       1    7   \n",
       "5/4/17 12:05     1   2          2        1      2         2       3    2   \n",
       "5/4/17 12:26     1   4          2        1      4         5       2    4   \n",
       "5/4/17 13:00     1   4          1        1      1         1       1    2   \n",
       "5/4/17 14:26     1   1          1        1      1         1       1    1   \n",
       "\n",
       "                   vehicle                   crime                 vegetable  \\\n",
       "Timestamp    robin    boat tricycle car embezzling murder vagrancy   parsley   \n",
       "5/4/17 12:05     1       2        2   1          1      1        1         1   \n",
       "5/4/17 12:05     2       2        2   1          2      1        2         4   \n",
       "5/4/17 12:26     2       3        5   1          2      1        5         5   \n",
       "5/4/17 13:00     1       1        1   1          1      1        7         5   \n",
       "5/4/17 14:26     1       4        4   1          1      1        4         1   \n",
       "\n",
       "                           \n",
       "Timestamp    carrot onion  \n",
       "5/4/17 12:05      1     1  \n",
       "5/4/17 12:05      2     2  \n",
       "5/4/17 12:26      1     2  \n",
       "5/4/17 13:00      1     1  \n",
       "5/4/17 14:26      1     1  "
      ]
     },
     "execution_count": 2,
     "metadata": {},
     "output_type": "execute_result"
    }
   ],
   "source": [
    "data = pd.read_csv('/Users/Pamsfwang/Documents/Psych45/WWW/demos/Semantic_demo.csv',\n",
    "                  index_col=[0],header=[0, 1], skipinitialspace=True)\n",
    "data.head()"
   ]
  },
  {
   "cell_type": "code",
   "execution_count": 3,
   "metadata": {
    "collapsed": false
   },
   "outputs": [
    {
     "name": "stdout",
     "output_type": "stream",
     "text": [
      "We currently have data from 112 students.\n"
     ]
    }
   ],
   "source": [
    "print 'We currently have data from ' + str(data.count()[0]) + ' students.'"
   ]
  },
  {
   "cell_type": "code",
   "execution_count": 4,
   "metadata": {
    "cellView": null,
    "collapsed": false,
    "executionInfo": {
     "content": {
      "execution_count": 73,
      "payload": [],
      "status": "ok",
      "user_expressions": {},
      "user_variables": {}
     },
     "timestamp": 1462204657802,
     "user": {
      "color": "#1FA15D",
      "displayName": "Steph Gagnon",
      "isAnonymous": false,
      "isMe": true,
      "permissionId": "13438171290375696632",
      "photoUrl": "//lh5.googleusercontent.com/-spdSQbdC81Y/AAAAAAAAAAI/AAAAAAAAFEg/_mc-Q0mvE5E/s50-c-k-no/photo.jpg",
      "sessionId": "2a3e57da62886c23",
      "userId": "102258427440644983632"
     },
     "user_tz": 420
    }
   },
   "outputs": [
    {
     "data": {
      "text/html": [
       "<div>\n",
       "<table border=\"1\" class=\"dataframe\">\n",
       "  <thead>\n",
       "    <tr style=\"text-align: right;\">\n",
       "      <th></th>\n",
       "      <th>category</th>\n",
       "      <th>item</th>\n",
       "      <th>timestamp</th>\n",
       "      <th>rating</th>\n",
       "    </tr>\n",
       "  </thead>\n",
       "  <tbody>\n",
       "    <tr>\n",
       "      <th>0</th>\n",
       "      <td>fruit</td>\n",
       "      <td>apple</td>\n",
       "      <td>5/4/17 12:05</td>\n",
       "      <td>1</td>\n",
       "    </tr>\n",
       "    <tr>\n",
       "      <th>1</th>\n",
       "      <td>fruit</td>\n",
       "      <td>apple</td>\n",
       "      <td>5/4/17 12:05</td>\n",
       "      <td>1</td>\n",
       "    </tr>\n",
       "    <tr>\n",
       "      <th>2</th>\n",
       "      <td>fruit</td>\n",
       "      <td>apple</td>\n",
       "      <td>5/4/17 12:26</td>\n",
       "      <td>1</td>\n",
       "    </tr>\n",
       "    <tr>\n",
       "      <th>3</th>\n",
       "      <td>fruit</td>\n",
       "      <td>apple</td>\n",
       "      <td>5/4/17 13:00</td>\n",
       "      <td>1</td>\n",
       "    </tr>\n",
       "    <tr>\n",
       "      <th>4</th>\n",
       "      <td>fruit</td>\n",
       "      <td>apple</td>\n",
       "      <td>5/4/17 14:26</td>\n",
       "      <td>1</td>\n",
       "    </tr>\n",
       "  </tbody>\n",
       "</table>\n",
       "</div>"
      ],
      "text/plain": [
       "  category   item     timestamp  rating\n",
       "0    fruit  apple  5/4/17 12:05       1\n",
       "1    fruit  apple  5/4/17 12:05       1\n",
       "2    fruit  apple  5/4/17 12:26       1\n",
       "3    fruit  apple  5/4/17 13:00       1\n",
       "4    fruit  apple  5/4/17 14:26       1"
      ]
     },
     "execution_count": 4,
     "metadata": {},
     "output_type": "execute_result"
    }
   ],
   "source": [
    "df = data.unstack().reset_index(name='rating')\n",
    "#df.rename(columns={'Timestamp': 'item', 'level_2': 'timestamp'}, inplace=True)\n",
    "df.rename(columns={'level_0': 'category', 'Timestamp': 'item', 'level_2': 'timestamp'}, inplace=True)\n",
    "df.head()\n"
   ]
  },
  {
   "cell_type": "code",
   "execution_count": 5,
   "metadata": {
    "collapsed": false
   },
   "outputs": [],
   "source": [
    "category_list = df.category.unique()"
   ]
  },
  {
   "cell_type": "code",
   "execution_count": null,
   "metadata": {
    "collapsed": false
   },
   "outputs": [],
   "source": [
    "f, axes = plt.subplots(ncols=len(category_list), figsize=(15, 3), sharey=True)\n",
    "plt.locator_params(nbins=5)\n",
    "first = True\n",
    "\n",
    "for ax, category in zip(axes, category_list):\n",
    "    ax.hlines(y=1, xmin=-1, xmax=4, linestyles='dashed', colors='green')\n",
    "    g = sns.pointplot(x='item', y='rating', ax=ax, jitter=True, alpha=.4, \n",
    "                      ci=95, palette=['darkgray'],\n",
    "                      data=df.loc[df.category == category])\n",
    "    g.set_title(category)\n",
    "    g.set_ylabel('')\n",
    "    g.set_xlabel('')\n",
    "    g.set_xticklabels(df.loc[df.category == category].item.unique(), rotation=90)\n",
    "    \n",
    "f.text(0.07, 0.5, 'Rating', va='center', rotation='vertical', fontsize='xx-large')\n",
    "sns.despine()"
   ]
  },
  {
   "cell_type": "code",
   "execution_count": null,
   "metadata": {
    "collapsed": false
   },
   "outputs": [],
   "source": [
    "f, ax = plt.subplots(ncols=1, figsize=(10, 4), sharey=True)\n",
    "g = sns.stripplot(x='item', y='rating', jitter=True, alpha=.1, size=12, linewidth=1,\n",
    "                  data=df.loc[df.category == 'fruit'], \n",
    "                  order=['apple', 'strawberry', 'fig'],\n",
    "                  palette=['limegreen', 'hotpink', 'mediumpurple'], ax=ax)\n",
    "g.set_xlabel('')"
   ]
  },
  {
   "cell_type": "code",
   "execution_count": null,
   "metadata": {
    "collapsed": false
   },
   "outputs": [],
   "source": [
    "f, ax = plt.subplots(ncols=1, figsize=(10, 4), sharey=True)\n",
    "g = sns.stripplot(x='item', y='rating', jitter=True, alpha=.1, size=12, linewidth=1,\n",
    "                  data=df.loc[df.category == 'sport'], \n",
    "                  order=['football', 'hockey', 'wrestling'],\n",
    "                  palette=['peru', 'black', 'blue'], ax=ax)\n",
    "g.set_xlabel('')"
   ]
  },
  {
   "cell_type": "code",
   "execution_count": null,
   "metadata": {
    "collapsed": false
   },
   "outputs": [],
   "source": [
    "f, ax = plt.subplots(ncols=1, figsize=(10, 4), sharey=True)\n",
    "g = sns.stripplot(x='item', y='rating', jitter=True, alpha=.1, size=12, linewidth=1,\n",
    "                  data=df.loc[df.category == 'vehicle'], \n",
    "                  order=['car', 'boat', 'tricycle'],\n",
    "                  palette=['gray', 'deepskyblue', 'crimson'], ax=ax)\n",
    "g.set_xlabel('')"
   ]
  },
  {
   "cell_type": "code",
   "execution_count": null,
   "metadata": {
    "collapsed": false
   },
   "outputs": [],
   "source": [
    "f, ax = plt.subplots(ncols=1, figsize=(10, 4), sharey=True)\n",
    "g = sns.stripplot(x='item', y='rating', jitter=True, alpha=.1, size=12, linewidth=1,\n",
    "                  data=df.loc[df.category == 'bird'], \n",
    "                  order=['ostrich', 'wren', 'robin'],\n",
    "                  palette=['peru', 'black', 'blue'], ax=ax)\n",
    "g.set_xlabel('')"
   ]
  },
  {
   "cell_type": "code",
   "execution_count": null,
   "metadata": {
    "collapsed": true
   },
   "outputs": [],
   "source": []
  }
 ],
 "metadata": {
  "colabVersion": "0.1",
  "kernelspec": {
   "display_name": "Python 2",
   "language": "python",
   "name": "python2"
  },
  "language_info": {
   "codemirror_mode": {
    "name": "ipython",
    "version": 2
   },
   "file_extension": ".py",
   "mimetype": "text/x-python",
   "name": "python",
   "nbconvert_exporter": "python",
   "pygments_lexer": "ipython2",
   "version": "2.7.11"
  }
 },
 "nbformat": 4,
 "nbformat_minor": 0
}
