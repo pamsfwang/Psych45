{
 "cells": [
  {
   "cell_type": "markdown",
   "metadata": {},
   "source": [
    "# Pysch 45: Emotional memory demo results"
   ]
  },
  {
   "cell_type": "code",
   "execution_count": 145,
   "metadata": {
    "collapsed": false
   },
   "outputs": [],
   "source": [
    "%matplotlib inline\n",
    "\n",
    "import pandas as pd\n",
    "import numpy as np\n",
    "import seaborn as sns\n",
    "import matplotlib.pyplot as plt\n",
    "import matplotlib.ticker as plticker\n",
    "\n",
    "sns.set(style='ticks', font_scale=1.5)"
   ]
  },
  {
   "cell_type": "code",
   "execution_count": 146,
   "metadata": {
    "collapsed": false
   },
   "outputs": [],
   "source": [
    "df = pd.read_csv('HITResultsFor3UEDKCTP9VQSZE86QJFHRRFFFRL7KU.csv', index_col=False)"
   ]
  },
  {
   "cell_type": "code",
   "execution_count": 147,
   "metadata": {
    "collapsed": false
   },
   "outputs": [
    {
     "data": {
      "text/html": [
       "<div style=\"max-height:1000px;max-width:1500px;overflow:auto;\">\n",
       "<table border=\"1\" class=\"dataframe\">\n",
       "  <thead>\n",
       "    <tr style=\"text-align: right;\">\n",
       "      <th></th>\n",
       "      <th>HitId</th>\n",
       "      <th>HitTitle</th>\n",
       "      <th>Annotation</th>\n",
       "      <th>AssignmentId</th>\n",
       "      <th>WorkerId</th>\n",
       "      <th>Status</th>\n",
       "      <th>AcceptTime</th>\n",
       "      <th>SubmitTime</th>\n",
       "      <th>Answer 1</th>\n",
       "    </tr>\n",
       "  </thead>\n",
       "  <tbody>\n",
       "    <tr>\n",
       "      <th>0</th>\n",
       "      <td> 3UEDKCTP9VQSZE86QJFHRRFFFRL7KU</td>\n",
       "      <td> P45: emotional memory demo</td>\n",
       "      <td>  </td>\n",
       "      <td> 3LWJHTCVCCMUBUJ1B92RZO0M486QFK</td>\n",
       "      <td>  A7NX912ETMBWU</td>\n",
       "      <td> Approved</td>\n",
       "      <td> Tue May 03 14:33:13 PDT 2016</td>\n",
       "      <td> Tue May 03 14:33:34 PDT 2016</td>\n",
       "      <td> {\"trials\":[],\"thisList\":[\"torture\",\"love\",\"mir...</td>\n",
       "    </tr>\n",
       "    <tr>\n",
       "      <th>1</th>\n",
       "      <td> 3UEDKCTP9VQSZE86QJFHRRFFFRL7KU</td>\n",
       "      <td> P45: emotional memory demo</td>\n",
       "      <td>  </td>\n",
       "      <td> 30X31N5D63QBSJH6SX54GN4WPGUASW</td>\n",
       "      <td> A1XK2SQ0Z4SCPP</td>\n",
       "      <td> Approved</td>\n",
       "      <td> Tue May 10 16:17:13 PDT 2016</td>\n",
       "      <td> Tue May 10 16:21:09 PDT 2016</td>\n",
       "      <td> {\"trials\":[],\"thisList\":[\"slaughter\",\"contents...</td>\n",
       "    </tr>\n",
       "    <tr>\n",
       "      <th>2</th>\n",
       "      <td> 3UEDKCTP9VQSZE86QJFHRRFFFRL7KU</td>\n",
       "      <td> P45: emotional memory demo</td>\n",
       "      <td>  </td>\n",
       "      <td> 3P529IW9KYLJKX3OJ4UVI21SU2ZFL0</td>\n",
       "      <td> A1JGUKICUQDH0L</td>\n",
       "      <td> Approved</td>\n",
       "      <td> Tue May 10 18:09:06 PDT 2016</td>\n",
       "      <td> Tue May 10 18:12:53 PDT 2016</td>\n",
       "      <td> {\"trials\":[],\"thisList\":[\"romantic\",\"cash\",\"gr...</td>\n",
       "    </tr>\n",
       "    <tr>\n",
       "      <th>3</th>\n",
       "      <td> 3UEDKCTP9VQSZE86QJFHRRFFFRL7KU</td>\n",
       "      <td> P45: emotional memory demo</td>\n",
       "      <td>  </td>\n",
       "      <td> 3TU5ZICBRD1LWF9E3VWLPWJ0H49Q8J</td>\n",
       "      <td> A3GNVSUHSIJEDW</td>\n",
       "      <td> Approved</td>\n",
       "      <td> Tue May 10 18:35:47 PDT 2016</td>\n",
       "      <td> Tue May 10 18:43:27 PDT 2016</td>\n",
       "      <td> {\"trials\":[],\"thisList\":[\"laughter\",\"pecan\",\"g...</td>\n",
       "    </tr>\n",
       "    <tr>\n",
       "      <th>4</th>\n",
       "      <td> 3UEDKCTP9VQSZE86QJFHRRFFFRL7KU</td>\n",
       "      <td> P45: emotional memory demo</td>\n",
       "      <td>  </td>\n",
       "      <td> 3QRYMNZ7FYHJR2OAQ1FZCYKIQ6ANTL</td>\n",
       "      <td> A2PHAETQOS0JPI</td>\n",
       "      <td> Approved</td>\n",
       "      <td> Thu May 12 11:11:18 PDT 2016</td>\n",
       "      <td> Thu May 12 11:16:34 PDT 2016</td>\n",
       "      <td> {\"trials\":[],\"thisList\":[\"slaughter\",\"broom\",\"...</td>\n",
       "    </tr>\n",
       "  </tbody>\n",
       "</table>\n",
       "</div>"
      ],
      "text/plain": [
       "                            HitId                    HitTitle Annotation  \\\n",
       "0  3UEDKCTP9VQSZE86QJFHRRFFFRL7KU  P45: emotional memory demo              \n",
       "1  3UEDKCTP9VQSZE86QJFHRRFFFRL7KU  P45: emotional memory demo              \n",
       "2  3UEDKCTP9VQSZE86QJFHRRFFFRL7KU  P45: emotional memory demo              \n",
       "3  3UEDKCTP9VQSZE86QJFHRRFFFRL7KU  P45: emotional memory demo              \n",
       "4  3UEDKCTP9VQSZE86QJFHRRFFFRL7KU  P45: emotional memory demo              \n",
       "\n",
       "                     AssignmentId        WorkerId    Status  \\\n",
       "0  3LWJHTCVCCMUBUJ1B92RZO0M486QFK   A7NX912ETMBWU  Approved   \n",
       "1  30X31N5D63QBSJH6SX54GN4WPGUASW  A1XK2SQ0Z4SCPP  Approved   \n",
       "2  3P529IW9KYLJKX3OJ4UVI21SU2ZFL0  A1JGUKICUQDH0L  Approved   \n",
       "3  3TU5ZICBRD1LWF9E3VWLPWJ0H49Q8J  A3GNVSUHSIJEDW  Approved   \n",
       "4  3QRYMNZ7FYHJR2OAQ1FZCYKIQ6ANTL  A2PHAETQOS0JPI  Approved   \n",
       "\n",
       "                     AcceptTime                    SubmitTime  \\\n",
       "0  Tue May 03 14:33:13 PDT 2016  Tue May 03 14:33:34 PDT 2016   \n",
       "1  Tue May 10 16:17:13 PDT 2016  Tue May 10 16:21:09 PDT 2016   \n",
       "2  Tue May 10 18:09:06 PDT 2016  Tue May 10 18:12:53 PDT 2016   \n",
       "3  Tue May 10 18:35:47 PDT 2016  Tue May 10 18:43:27 PDT 2016   \n",
       "4  Thu May 12 11:11:18 PDT 2016  Thu May 12 11:16:34 PDT 2016   \n",
       "\n",
       "                                            Answer 1  \n",
       "0  {\"trials\":[],\"thisList\":[\"torture\",\"love\",\"mir...  \n",
       "1  {\"trials\":[],\"thisList\":[\"slaughter\",\"contents...  \n",
       "2  {\"trials\":[],\"thisList\":[\"romantic\",\"cash\",\"gr...  \n",
       "3  {\"trials\":[],\"thisList\":[\"laughter\",\"pecan\",\"g...  \n",
       "4  {\"trials\":[],\"thisList\":[\"slaughter\",\"broom\",\"...  "
      ]
     },
     "execution_count": 147,
     "metadata": {},
     "output_type": "execute_result"
    }
   ],
   "source": [
    "df.head()"
   ]
  },
  {
   "cell_type": "markdown",
   "metadata": {},
   "source": [
    "#### Number of participants"
   ]
  },
  {
   "cell_type": "code",
   "execution_count": 148,
   "metadata": {
    "collapsed": false
   },
   "outputs": [
    {
     "data": {
      "text/plain": [
       "16"
      ]
     },
     "execution_count": 148,
     "metadata": {},
     "output_type": "execute_result"
    }
   ],
   "source": [
    "df.shape[0] - 1"
   ]
  },
  {
   "cell_type": "markdown",
   "metadata": {},
   "source": [
    "## Pull out important data from Turk output"
   ]
  },
  {
   "cell_type": "code",
   "execution_count": 149,
   "metadata": {
    "collapsed": true
   },
   "outputs": [],
   "source": [
    "def add_null_col(df, col_names):\n",
    "    for col in col_names:\n",
    "        df[col] = np.nan\n",
    "    return df"
   ]
  },
  {
   "cell_type": "code",
   "execution_count": 150,
   "metadata": {
    "collapsed": false
   },
   "outputs": [],
   "source": [
    "dtrials = pd.DataFrame()\n",
    "\n",
    "condition_list = ['pos', 'neg', 'neut']\n",
    "df = add_null_col(df, condition_list)\n",
    "\n",
    "for sub in df.iterrows():\n",
    "        \n",
    "    index = sub[0]\n",
    "    row = sub[1]\n",
    "    \n",
    "    # extract trial data\n",
    "    trial_count = len(eval(df.ix[index]['Answer 1'])['thisList'])\n",
    "    dsub = pd.DataFrame([eval(df.ix[index]['Answer 1'])['thisList'],\n",
    "                         eval(df.ix[index]['Answer 1'])['theseResults']],\n",
    "                         index=['word', 'retrieved']).T\n",
    "    dsub.loc[:,'retrieved'] = dsub.retrieved.astype(int)\n",
    "    dsub['subid'] = index\n",
    "    dsub['serial_pos'] = np.arange(1,trial_count+1)\n",
    "    dtrials = dtrials.append(dsub, ignore_index=True)\n",
    "        \n",
    "    for cond in ['pos', 'neg', 'neut']:\n",
    "        \n",
    "        df.ix[index, cond] = eval(row['Answer 1'])['num' + cond]        \n"
   ]
  },
  {
   "cell_type": "code",
   "execution_count": 151,
   "metadata": {
    "collapsed": false
   },
   "outputs": [
    {
     "data": {
      "text/html": [
       "<div style=\"max-height:1000px;max-width:1500px;overflow:auto;\">\n",
       "<table border=\"1\" class=\"dataframe\">\n",
       "  <thead>\n",
       "    <tr style=\"text-align: right;\">\n",
       "      <th></th>\n",
       "      <th>subid</th>\n",
       "      <th>valence</th>\n",
       "      <th>count</th>\n",
       "      <th>proportion</th>\n",
       "    </tr>\n",
       "  </thead>\n",
       "  <tbody>\n",
       "    <tr>\n",
       "      <th>0</th>\n",
       "      <td> 0</td>\n",
       "      <td>  pos</td>\n",
       "      <td> 1</td>\n",
       "      <td> 0.066667</td>\n",
       "    </tr>\n",
       "    <tr>\n",
       "      <th>1</th>\n",
       "      <td> 0</td>\n",
       "      <td>  neg</td>\n",
       "      <td> 1</td>\n",
       "      <td> 0.066667</td>\n",
       "    </tr>\n",
       "    <tr>\n",
       "      <th>2</th>\n",
       "      <td> 0</td>\n",
       "      <td> neut</td>\n",
       "      <td> 2</td>\n",
       "      <td> 0.133333</td>\n",
       "    </tr>\n",
       "    <tr>\n",
       "      <th>3</th>\n",
       "      <td> 1</td>\n",
       "      <td>  pos</td>\n",
       "      <td> 5</td>\n",
       "      <td> 0.333333</td>\n",
       "    </tr>\n",
       "    <tr>\n",
       "      <th>4</th>\n",
       "      <td> 1</td>\n",
       "      <td>  neg</td>\n",
       "      <td> 5</td>\n",
       "      <td> 0.333333</td>\n",
       "    </tr>\n",
       "  </tbody>\n",
       "</table>\n",
       "</div>"
      ],
      "text/plain": [
       "   subid valence  count  proportion\n",
       "0      0     pos      1    0.066667\n",
       "1      0     neg      1    0.066667\n",
       "2      0    neut      2    0.133333\n",
       "3      1     pos      5    0.333333\n",
       "4      1     neg      5    0.333333"
      ]
     },
     "execution_count": 151,
     "metadata": {},
     "output_type": "execute_result"
    }
   ],
   "source": [
    "data = pd.DataFrame(df.loc[:,['pos', 'neg', 'neut']].stack().reset_index())\n",
    "data.rename(columns={'level_0': 'subid', \n",
    "                     'level_1': 'valence', \n",
    "                     0: 'count'}, inplace=True)\n",
    "data['proportion'] = data['count'].apply(lambda x: x/15)\n",
    "data.head()"
   ]
  },
  {
   "cell_type": "code",
   "execution_count": 152,
   "metadata": {
    "collapsed": true
   },
   "outputs": [],
   "source": [
    "data = data.loc[data.subid != 0] #remove \"pilot\" data\n",
    "dtrials = dtrials.loc[dtrials.subid != 0].reset_index() #remove \"pilot\" data"
   ]
  },
  {
   "cell_type": "code",
   "execution_count": 175,
   "metadata": {
    "collapsed": false
   },
   "outputs": [
    {
     "data": {
      "image/png": "[encoded data removed]",
      "text/plain": [
       "<matplotlib.figure.Figure at 0x11342d510>"
      ]
     },
     "metadata": {},
     "output_type": "display_data"
    }
   ],
   "source": [
    "p = sns.factorplot(x='valence', y='proportion', \n",
    "                   hue='valence', units='subid', ci=68,\n",
    "                   data=data, aspect=1.5,\n",
    "                   palette=['#33cc33', '#ff6666', '#cc66ff'])\n",
    "\n",
    "p.set_ylabels('Proportion remembered')\n",
    "sns.despine(trim=True)"
   ]
  },
  {
   "cell_type": "markdown",
   "metadata": {},
   "source": [
    "## Most commonly retrieved words"
   ]
  },
  {
   "cell_type": "code",
   "execution_count": 171,
   "metadata": {
    "collapsed": false
   },
   "outputs": [
    {
     "data": {
      "text/html": [
       "<div style=\"max-height:1000px;max-width:1500px;overflow:auto;\">\n",
       "<table border=\"1\" class=\"dataframe\">\n",
       "  <thead>\n",
       "    <tr style=\"text-align: right;\">\n",
       "      <th></th>\n",
       "      <th>word</th>\n",
       "      <th>P(retrieved)</th>\n",
       "    </tr>\n",
       "  </thead>\n",
       "  <tbody>\n",
       "    <tr>\n",
       "      <th>32</th>\n",
       "      <td>       rape</td>\n",
       "      <td> 0.7500</td>\n",
       "    </tr>\n",
       "    <tr>\n",
       "      <th>22</th>\n",
       "      <td>       love</td>\n",
       "      <td> 0.6875</td>\n",
       "    </tr>\n",
       "    <tr>\n",
       "      <th>24</th>\n",
       "      <td>     mother</td>\n",
       "      <td> 0.5625</td>\n",
       "    </tr>\n",
       "    <tr>\n",
       "      <th>39</th>\n",
       "      <td>    suicide</td>\n",
       "      <td> 0.5000</td>\n",
       "    </tr>\n",
       "    <tr>\n",
       "      <th>17</th>\n",
       "      <td>       kiss</td>\n",
       "      <td> 0.5000</td>\n",
       "    </tr>\n",
       "    <tr>\n",
       "      <th>40</th>\n",
       "      <td> sweetheart</td>\n",
       "      <td> 0.4375</td>\n",
       "    </tr>\n",
       "    <tr>\n",
       "      <th>8 </th>\n",
       "      <td> depression</td>\n",
       "      <td> 0.4375</td>\n",
       "    </tr>\n",
       "    <tr>\n",
       "      <th>19</th>\n",
       "      <td>   laughter</td>\n",
       "      <td> 0.4375</td>\n",
       "    </tr>\n",
       "    <tr>\n",
       "      <th>31</th>\n",
       "      <td>    rainbow</td>\n",
       "      <td> 0.4375</td>\n",
       "    </tr>\n",
       "    <tr>\n",
       "      <th>9 </th>\n",
       "      <td>       duct</td>\n",
       "      <td> 0.4375</td>\n",
       "    </tr>\n",
       "  </tbody>\n",
       "</table>\n",
       "</div>"
      ],
      "text/plain": [
       "          word  P(retrieved)\n",
       "32        rape        0.7500\n",
       "22        love        0.6875\n",
       "24      mother        0.5625\n",
       "39     suicide        0.5000\n",
       "17        kiss        0.5000\n",
       "40  sweetheart        0.4375\n",
       "8   depression        0.4375\n",
       "19    laughter        0.4375\n",
       "31     rainbow        0.4375\n",
       "9         duct        0.4375"
      ]
     },
     "execution_count": 171,
     "metadata": {},
     "output_type": "execute_result"
    }
   ],
   "source": [
    "top_words = dtrials.groupby(['word']).sum().reset_index().sort('retrieved', \n",
    "                                                               ascending=False)\n",
    "top_words['P(retrieved)'] = top_words.retrieved.apply(lambda x: float(x)/len(dtrials.subid.unique()))\n",
    "\n",
    "top_words.loc[top_words['P(retrieved)'] > .4,['word', 'P(retrieved)']]"
   ]
  },
  {
   "cell_type": "markdown",
   "metadata": {},
   "source": [
    "## Serial position effect"
   ]
  },
  {
   "cell_type": "code",
   "execution_count": 156,
   "metadata": {
    "collapsed": true
   },
   "outputs": [],
   "source": [
    "dtrials.index = dtrials.serial_pos"
   ]
  },
  {
   "cell_type": "markdown",
   "metadata": {},
   "source": [
    "### Smoothed serial position"
   ]
  },
  {
   "cell_type": "code",
   "execution_count": 181,
   "metadata": {
    "collapsed": false
   },
   "outputs": [
    {
     "data": {
      "image/png": "[encoded data removed]",
      "text/plain": [
       "<matplotlib.figure.Figure at 0x11145f5d0>"
      ]
     },
     "metadata": {},
     "output_type": "display_data"
    }
   ],
   "source": [
    "smoothing_factor = 5\n",
    "\n",
    "dserial = dtrials\n",
    "dserial = dserial.groupby(['serial_pos']).sum().reset_index()\n",
    "dserial = pd.rolling_mean(dserial.loc[:,['serial_pos', 'retrieved']], smoothing_factor, center=False)\n",
    "dserial['P(retrieved)'] = dserial.retrieved.apply(lambda x: float(x)/len(dtrials.subid.unique()))\n",
    "\n",
    "p = sns.regplot(x='serial_pos', y='P(retrieved)', \n",
    "                lowess=True,\n",
    "                data=dserial)\n",
    "\n",
    "plt.locator_params(axis='x',nbins=15)\n",
    "plt.xlim(0,dtrials.serial_pos.max())\n",
    "plt.xlabel('Serial position')\n",
    "\n",
    "sns.despine(trim=True)"
   ]
  },
  {
   "cell_type": "code",
   "execution_count": 182,
   "metadata": {
    "collapsed": false
   },
   "outputs": [
    {
     "data": {
      "image/png": "[encoded data removed]",
      "text/plain": [
       "<matplotlib.figure.Figure at 0x111479690>"
      ]
     },
     "metadata": {},
     "output_type": "display_data"
    }
   ],
   "source": [
    "dserial = dtrials.groupby(['serial_pos']).sum().reset_index()\n",
    "dserial['P(retrieved)'] = dserial.retrieved.apply(lambda x: float(x)/len(dtrials.subid.unique()))\n",
    "\n",
    "p = sns.regplot(x='serial_pos', y='P(retrieved)', \n",
    "                lowess=True,\n",
    "                data=dserial)\n",
    "\n",
    "plt.locator_params(axis='x',nbins=15)\n",
    "plt.xlim(0,dtrials.serial_pos.max())\n",
    "plt.xlabel('Serial position')\n",
    "\n",
    "sns.despine(trim=True)"
   ]
  },
  {
   "cell_type": "code",
   "execution_count": null,
   "metadata": {
    "collapsed": true
   },
   "outputs": [],
   "source": []
  },
  {
   "cell_type": "code",
   "execution_count": null,
   "metadata": {
    "collapsed": true
   },
   "outputs": [],
   "source": []
  },
  {
   "cell_type": "code",
   "execution_count": null,
   "metadata": {
    "collapsed": true
   },
   "outputs": [],
   "source": []
  },
  {
   "cell_type": "code",
   "execution_count": null,
   "metadata": {
    "collapsed": true
   },
   "outputs": [],
   "source": []
  }
 ],
 "metadata": {
  "kernelspec": {
   "display_name": "Python 2",
   "language": "python",
   "name": "python2"
  },
  "language_info": {
   "codemirror_mode": {
    "name": "ipython",
    "version": 2
   },
   "file_extension": ".py",
   "mimetype": "text/x-python",
   "name": "python",
   "nbconvert_exporter": "python",
   "pygments_lexer": "ipython2",
   "version": "2.7.11"
  }
 },
 "nbformat": 4,
 "nbformat_minor": 0
}
