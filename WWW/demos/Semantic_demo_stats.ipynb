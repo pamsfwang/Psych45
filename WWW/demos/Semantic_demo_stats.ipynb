{
 "cells": [
  {
   "cell_type": "markdown",
   "metadata": {},
   "source": [
    "# Psych 45: Semantic memory demo stats\n"
   ]
  },
  {
   "cell_type": "code",
   "execution_count": 1,
   "metadata": {
    "cellView": null,
    "collapsed": false,
    "executionInfo": {
     "content": {
      "execution_count": 10,
      "payload": [],
      "status": "ok",
      "user_expressions": {},
      "user_variables": {}
     },
     "timestamp": 1462199571477,
     "user": {
      "color": "#1FA15D",
      "displayName": "Steph Gagnon",
      "isAnonymous": false,
      "isMe": true,
      "permissionId": "13438171290375696632",
      "photoUrl": "//lh5.googleusercontent.com/-spdSQbdC81Y/AAAAAAAAAAI/AAAAAAAAFEg/_mc-Q0mvE5E/s50-c-k-no/photo.jpg",
      "sessionId": "2a3e57da62886c23",
      "userId": "102258427440644983632"
     },
     "user_tz": 420
    }
   },
   "outputs": [
    {
     "name": "stderr",
     "output_type": "stream",
     "text": [
      "//anaconda/lib/python2.7/site-packages/matplotlib/__init__.py:872: UserWarning: axes.color_cycle is deprecated and replaced with axes.prop_cycle; please use the latter.\n",
      "  warnings.warn(self.msg_depr % (key, alt_key))\n"
     ]
    }
   ],
   "source": [
    "%matplotlib inline\n",
    "\n",
    "import pandas as pd\n",
    "import seaborn as sns\n",
    "import matplotlib.pyplot as plt\n",
    "import scipy as sp\n",
    "sns.set(style='ticks', context='poster', font_scale=1)"
   ]
  },
  {
   "cell_type": "code",
   "execution_count": 2,
   "metadata": {
    "cellView": null,
    "collapsed": false,
    "executionInfo": {
     "content": {
      "execution_count": 67,
      "payload": [],
      "status": "ok",
      "user_expressions": {},
      "user_variables": {}
     },
     "timestamp": 1462204476022,
     "user": {
      "color": "#1FA15D",
      "displayName": "Steph Gagnon",
      "isAnonymous": false,
      "isMe": true,
      "permissionId": "13438171290375696632",
      "photoUrl": "//lh5.googleusercontent.com/-spdSQbdC81Y/AAAAAAAAAAI/AAAAAAAAFEg/_mc-Q0mvE5E/s50-c-k-no/photo.jpg",
      "sessionId": "2a3e57da62886c23",
      "userId": "102258427440644983632"
     },
     "user_tz": 420
    }
   },
   "outputs": [
    {
     "data": {
      "text/html": [
       "<div>\n",
       "<table border=\"1\" class=\"dataframe\">\n",
       "  <thead>\n",
       "    <tr style=\"text-align: right;\">\n",
       "      <th></th>\n",
       "      <th>2</th>\n",
       "      <th>6</th>\n",
       "      <th>2.1</th>\n",
       "      <th>1</th>\n",
       "      <th>2.2</th>\n",
       "      <th>2.3</th>\n",
       "      <th>2.4</th>\n",
       "      <th>5</th>\n",
       "      <th>3</th>\n",
       "      <th>2.5</th>\n",
       "      <th>2.6</th>\n",
       "      <th>2.7</th>\n",
       "      <th>2.8</th>\n",
       "      <th>1.1</th>\n",
       "      <th>2.9</th>\n",
       "      <th>3.1</th>\n",
       "      <th>1.2</th>\n",
       "      <th>1.3</th>\n",
       "    </tr>\n",
       "    <tr>\n",
       "      <th>4/28/2016 11:04:07</th>\n",
       "      <th></th>\n",
       "      <th></th>\n",
       "      <th></th>\n",
       "      <th></th>\n",
       "      <th></th>\n",
       "      <th></th>\n",
       "      <th></th>\n",
       "      <th></th>\n",
       "      <th></th>\n",
       "      <th></th>\n",
       "      <th></th>\n",
       "      <th></th>\n",
       "      <th></th>\n",
       "      <th></th>\n",
       "      <th></th>\n",
       "      <th></th>\n",
       "      <th></th>\n",
       "      <th></th>\n",
       "    </tr>\n",
       "  </thead>\n",
       "  <tbody>\n",
       "    <tr>\n",
       "      <th>4/28/2016 11:05:41</th>\n",
       "      <td>1</td>\n",
       "      <td>3</td>\n",
       "      <td>1</td>\n",
       "      <td>1</td>\n",
       "      <td>1</td>\n",
       "      <td>2</td>\n",
       "      <td>2</td>\n",
       "      <td>1</td>\n",
       "      <td>1</td>\n",
       "      <td>2</td>\n",
       "      <td>3</td>\n",
       "      <td>1</td>\n",
       "      <td>2</td>\n",
       "      <td>1</td>\n",
       "      <td>5</td>\n",
       "      <td>1</td>\n",
       "      <td>1</td>\n",
       "      <td>2</td>\n",
       "    </tr>\n",
       "    <tr>\n",
       "      <th>4/28/2016 11:06:22</th>\n",
       "      <td>1</td>\n",
       "      <td>1</td>\n",
       "      <td>1</td>\n",
       "      <td>1</td>\n",
       "      <td>1</td>\n",
       "      <td>1</td>\n",
       "      <td>3</td>\n",
       "      <td>1</td>\n",
       "      <td>1</td>\n",
       "      <td>1</td>\n",
       "      <td>3</td>\n",
       "      <td>1</td>\n",
       "      <td>1</td>\n",
       "      <td>1</td>\n",
       "      <td>7</td>\n",
       "      <td>7</td>\n",
       "      <td>1</td>\n",
       "      <td>1</td>\n",
       "    </tr>\n",
       "    <tr>\n",
       "      <th>4/28/2016 11:24:28</th>\n",
       "      <td>1</td>\n",
       "      <td>2</td>\n",
       "      <td>1</td>\n",
       "      <td>2</td>\n",
       "      <td>2</td>\n",
       "      <td>2</td>\n",
       "      <td>1</td>\n",
       "      <td>2</td>\n",
       "      <td>1</td>\n",
       "      <td>1</td>\n",
       "      <td>2</td>\n",
       "      <td>1</td>\n",
       "      <td>2</td>\n",
       "      <td>1</td>\n",
       "      <td>2</td>\n",
       "      <td>4</td>\n",
       "      <td>1</td>\n",
       "      <td>3</td>\n",
       "    </tr>\n",
       "    <tr>\n",
       "      <th>4/28/2016 11:36:44</th>\n",
       "      <td>1</td>\n",
       "      <td>2</td>\n",
       "      <td>1</td>\n",
       "      <td>1</td>\n",
       "      <td>1</td>\n",
       "      <td>2</td>\n",
       "      <td>1</td>\n",
       "      <td>3</td>\n",
       "      <td>1</td>\n",
       "      <td>1</td>\n",
       "      <td>3</td>\n",
       "      <td>1</td>\n",
       "      <td>1</td>\n",
       "      <td>1</td>\n",
       "      <td>3</td>\n",
       "      <td>3</td>\n",
       "      <td>1</td>\n",
       "      <td>1</td>\n",
       "    </tr>\n",
       "    <tr>\n",
       "      <th>4/28/2016 11:41:38</th>\n",
       "      <td>1</td>\n",
       "      <td>1</td>\n",
       "      <td>1</td>\n",
       "      <td>1</td>\n",
       "      <td>1</td>\n",
       "      <td>1</td>\n",
       "      <td>4</td>\n",
       "      <td>1</td>\n",
       "      <td>1</td>\n",
       "      <td>4</td>\n",
       "      <td>4</td>\n",
       "      <td>1</td>\n",
       "      <td>3</td>\n",
       "      <td>1</td>\n",
       "      <td>6</td>\n",
       "      <td>7</td>\n",
       "      <td>1</td>\n",
       "      <td>1</td>\n",
       "    </tr>\n",
       "  </tbody>\n",
       "</table>\n",
       "</div>"
      ],
      "text/plain": [
       "                    2  6  2.1  1  2.2  2.3  2.4  5  3  2.5  2.6  2.7  2.8  \\\n",
       "4/28/2016 11:04:07                                                          \n",
       "4/28/2016 11:05:41  1  3    1  1    1    2    2  1  1    2    3    1    2   \n",
       "4/28/2016 11:06:22  1  1    1  1    1    1    3  1  1    1    3    1    1   \n",
       "4/28/2016 11:24:28  1  2    1  2    2    2    1  2  1    1    2    1    2   \n",
       "4/28/2016 11:36:44  1  2    1  1    1    2    1  3  1    1    3    1    1   \n",
       "4/28/2016 11:41:38  1  1    1  1    1    1    4  1  1    4    4    1    3   \n",
       "\n",
       "                    1.1  2.9  3.1  1.2  1.3  \n",
       "4/28/2016 11:04:07                           \n",
       "4/28/2016 11:05:41    1    5    1    1    2  \n",
       "4/28/2016 11:06:22    1    7    7    1    1  \n",
       "4/28/2016 11:24:28    1    2    4    1    3  \n",
       "4/28/2016 11:36:44    1    3    3    1    1  \n",
       "4/28/2016 11:41:38    1    6    7    1    1  "
      ]
     },
     "execution_count": 2,
     "metadata": {},
     "output_type": "execute_result"
    }
   ],
   "source": [
    "data = pd.read_csv('http://web.stanford.edu/class/psych45/demos/semantic_memory_original_responses.csv',\n",
    "                   index_col=[0], header = 2,skipinitialspace=True)#,index_col=[0], skipinitialspace=True\n",
    "data.head()"
   ]
  },
  {
   "cell_type": "code",
   "execution_count": null,
   "metadata": {
    "collapsed": false
   },
   "outputs": [],
   "source": [
    "print 'We currently have data from ' + str(data.count()[0]) + ' students.'"
   ]
  },
  {
   "cell_type": "code",
   "execution_count": null,
   "metadata": {
    "cellView": null,
    "collapsed": false,
    "executionInfo": {
     "content": {
      "execution_count": 73,
      "payload": [],
      "status": "ok",
      "user_expressions": {},
      "user_variables": {}
     },
     "timestamp": 1462204657802,
     "user": {
      "color": "#1FA15D",
      "displayName": "Steph Gagnon",
      "isAnonymous": false,
      "isMe": true,
      "permissionId": "13438171290375696632",
      "photoUrl": "//lh5.googleusercontent.com/-spdSQbdC81Y/AAAAAAAAAAI/AAAAAAAAFEg/_mc-Q0mvE5E/s50-c-k-no/photo.jpg",
      "sessionId": "2a3e57da62886c23",
      "userId": "102258427440644983632"
     },
     "user_tz": 420
    }
   },
   "outputs": [],
   "source": [
    "df = data.unstack().reset_index(name='rating')\n",
    "#df.rename(columns={'Timestamp': 'item', 'level_2': 'timestamp'}, inplace=True)\n",
    "#df.rename(columns={'level_0': 'category', 'Timestamp': 'item', 'level_2': 'timestamp'}, inplace=True)\n",
    "#df.head()\n",
    "df"
   ]
  },
  {
   "cell_type": "code",
   "execution_count": null,
   "metadata": {
    "collapsed": false
   },
   "outputs": [],
   "source": [
    "category_list = df.category.unique()"
   ]
  },
  {
   "cell_type": "code",
   "execution_count": null,
   "metadata": {
    "collapsed": false
   },
   "outputs": [],
   "source": [
    "f, axes = plt.subplots(ncols=len(category_list), figsize=(15, 3), sharey=True)\n",
    "plt.locator_params(nbins=5)\n",
    "first = True\n",
    "\n",
    "for ax, category in zip(axes, category_list):\n",
    "    ax.hlines(y=1, xmin=-1, xmax=4, linestyles='dashed', colors='green')\n",
    "    g = sns.pointplot(x='item', y='rating', ax=ax, jitter=True, alpha=.4, \n",
    "                      ci=95, palette=['darkgray'],\n",
    "                      data=df.loc[df.category == category])\n",
    "    g.set_title(category)\n",
    "    g.set_ylabel('')\n",
    "    g.set_xlabel('')\n",
    "    g.set_xticklabels(df.loc[df.category == category].item.unique(), rotation=90)\n",
    "    \n",
    "f.text(0.07, 0.5, 'Rating', va='center', rotation='vertical', fontsize='xx-large')\n",
    "sns.despine()"
   ]
  },
  {
   "cell_type": "code",
   "execution_count": null,
   "metadata": {
    "collapsed": false
   },
   "outputs": [],
   "source": [
    "f, ax = plt.subplots(ncols=1, figsize=(10, 4), sharey=True)\n",
    "g = sns.stripplot(x='item', y='rating', jitter=True, alpha=.1, size=12, linewidth=1,\n",
    "                  data=df.loc[df.category == 'fruit'], \n",
    "                  order=['apple', 'strawberry', 'fig'],\n",
    "                  palette=['limegreen', 'hotpink', 'mediumpurple'], ax=ax)\n",
    "g.set_xlabel('')"
   ]
  },
  {
   "cell_type": "code",
   "execution_count": null,
   "metadata": {
    "collapsed": false
   },
   "outputs": [],
   "source": [
    "f, ax = plt.subplots(ncols=1, figsize=(10, 4), sharey=True)\n",
    "g = sns.stripplot(x='item', y='rating', jitter=True, alpha=.1, size=12, linewidth=1,\n",
    "                  data=df.loc[df.category == 'sport'], \n",
    "                  order=['football', 'hockey', 'wrestling'],\n",
    "                  palette=['peru', 'black', 'blue'], ax=ax)\n",
    "g.set_xlabel('')"
   ]
  },
  {
   "cell_type": "code",
   "execution_count": null,
   "metadata": {
    "collapsed": false
   },
   "outputs": [],
   "source": [
    "f, ax = plt.subplots(ncols=1, figsize=(10, 4), sharey=True)\n",
    "g = sns.stripplot(x='item', y='rating', jitter=True, alpha=.1, size=12, linewidth=1,\n",
    "                  data=df.loc[df.category == 'vehicle'], \n",
    "                  order=['car', 'boat', 'tricycle'],\n",
    "                  palette=['gray', 'deepskyblue', 'crimson'], ax=ax)\n",
    "g.set_xlabel('')"
   ]
  },
  {
   "cell_type": "code",
   "execution_count": null,
   "metadata": {
    "collapsed": true
   },
   "outputs": [],
   "source": []
  }
 ],
 "metadata": {
  "colabVersion": "0.1",
  "kernelspec": {
   "display_name": "Python 2",
   "language": "python",
   "name": "python2"
  },
  "language_info": {
   "codemirror_mode": {
    "name": "ipython",
    "version": 2
   },
   "file_extension": ".py",
   "mimetype": "text/x-python",
   "name": "python",
   "nbconvert_exporter": "python",
   "pygments_lexer": "ipython2",
   "version": "2.7.11"
  }
 },
 "nbformat": 4,
 "nbformat_minor": 0
}
